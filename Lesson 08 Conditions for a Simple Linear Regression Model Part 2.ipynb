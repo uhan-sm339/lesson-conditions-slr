{
 "cells": [
  {
   "cell_type": "markdown",
   "id": "2a44db79-68f7-4561-99ea-95fa42c4f823",
   "metadata": {
    "editable": true,
    "slideshow": {
     "slide_type": ""
    },
    "tags": []
   },
   "source": [
    "**SM339 &#x25aa; Applied Statistics &#x25aa; Spring 2024 &#x25aa; Uhan**"
   ]
  },
  {
   "cell_type": "markdown",
   "id": "4e0e962f-b0eb-49ba-a8ec-33275dd5faf3",
   "metadata": {},
   "source": [
    "# Lesson 8. Conditions for a Simple Linear Regression Model &ndash; Part 2 "
   ]
  },
  {
   "cell_type": "markdown",
   "id": "85f9d844-d5dc-4b8c-bcef-6ba5ebb122a3",
   "metadata": {
    "editable": true,
    "slideshow": {
     "slide_type": ""
    },
    "tags": []
   },
   "source": [
    "## Example"
   ]
  },
  {
   "cell_type": "markdown",
   "id": "19b144aa-ceef-46e9-9f0d-961b2e35946e",
   "metadata": {},
   "source": [
    "The cars in the `AccordPrice` data that we looked at previously in Lesson 7 were randomly selected from the Accords for sale on cars.com."
   ]
  },
  {
   "cell_type": "markdown",
   "id": "6f1200fc-7f96-4f65-81e4-d5a5365b544d",
   "metadata": {},
   "source": [
    "* Let's start by loading the data:"
   ]
  },
  {
   "cell_type": "code",
   "execution_count": null,
   "id": "297b462a-0bf7-48e6-a467-1209d4bcf959",
   "metadata": {},
   "outputs": [],
   "source": [
    "library(Stat2Data)\n",
    "data(AccordPrice)"
   ]
  },
  {
   "cell_type": "markdown",
   "id": "4387da34-8995-44ee-bf5f-1f2e6caecd1a",
   "metadata": {},
   "source": [
    "* As before, let's fit a simple linear regression model, with `Price` as the repsonse variable and `Mileage` as the explanatory variable:"
   ]
  },
  {
   "cell_type": "code",
   "execution_count": null,
   "id": "640c2295-9d56-4d59-854a-2e3987f9ac20",
   "metadata": {
    "editable": true,
    "slideshow": {
     "slide_type": ""
    },
    "tags": []
   },
   "outputs": [],
   "source": [
    "fit <- lm(Price ~ Mileage, data = AccordPrice)"
   ]
  },
  {
   "cell_type": "markdown",
   "id": "f0dfe75b-e368-421e-9c05-ae819e9c5146",
   "metadata": {
    "editable": true,
    "slideshow": {
     "slide_type": ""
    },
    "tags": []
   },
   "source": [
    "* Now, let's look at the fitted line:"
   ]
  },
  {
   "cell_type": "code",
   "execution_count": null,
   "id": "7847236f-9123-4853-bfc4-393db8eade11",
   "metadata": {
    "editable": true,
    "slideshow": {
     "slide_type": ""
    },
    "tags": []
   },
   "outputs": [],
   "source": [
    "plot(AccordPrice$Mileage, AccordPrice$Price)\n",
    "abline(fit)"
   ]
  },
  {
   "cell_type": "markdown",
   "id": "6ec6b1de-219e-44cf-9ade-00f4e95cf870",
   "metadata": {
    "editable": true,
    "slideshow": {
     "slide_type": ""
    },
    "tags": []
   },
   "source": [
    "* In R, we can obtain a __residuals vs. fitted values plot__ like this:"
   ]
  },
  {
   "cell_type": "code",
   "execution_count": null,
   "id": "7ecd2f0d-867b-40b4-a71a-53f7bac9caed",
   "metadata": {
    "editable": true,
    "slideshow": {
     "slide_type": ""
    },
    "tags": []
   },
   "outputs": [],
   "source": []
  },
  {
   "cell_type": "markdown",
   "id": "0d979379-d3f3-4333-aaff-3d6ed8398029",
   "metadata": {
    "editable": true,
    "slideshow": {
     "slide_type": ""
    },
    "tags": []
   },
   "source": [
    "* Similarly, we can obtain a __Normal Q-Q plot of the residuals__ like this:"
   ]
  },
  {
   "cell_type": "code",
   "execution_count": null,
   "id": "f74ff998-fcc1-43ac-9660-7a148f54988d",
   "metadata": {
    "editable": true,
    "slideshow": {
     "slide_type": ""
    },
    "tags": []
   },
   "outputs": [],
   "source": []
  },
  {
   "cell_type": "markdown",
   "id": "1a868931-9d92-44d6-8da1-0ada9a578be3",
   "metadata": {
    "editable": true,
    "slideshow": {
     "slide_type": ""
    },
    "tags": []
   },
   "source": [
    "* Are the conditions of simple linear regression met? How do you know? "
   ]
  },
  {
   "cell_type": "markdown",
   "id": "9ffc08c3-d2bf-4184-8a3d-602fe4ea8431",
   "metadata": {
    "editable": true,
    "slideshow": {
     "slide_type": ""
    },
    "tags": []
   },
   "source": [
    "*Write your answer here. Double-click to edit.*\n",
    "\n",
    "- __Linearity__\n",
    "\n",
    "- __Independence__\n",
    "\n",
    "- __Normality__\n",
    "\n",
    "- __Equal variance__\n",
    "\n",
    "- __Randomness__"
   ]
  }
 ],
 "metadata": {
  "kernelspec": {
   "display_name": "R",
   "language": "R",
   "name": "ir"
  },
  "language_info": {
   "codemirror_mode": "r",
   "file_extension": ".r",
   "mimetype": "text/x-r-source",
   "name": "R",
   "pygments_lexer": "r",
   "version": "4.3.2"
  }
 },
 "nbformat": 4,
 "nbformat_minor": 5
}
